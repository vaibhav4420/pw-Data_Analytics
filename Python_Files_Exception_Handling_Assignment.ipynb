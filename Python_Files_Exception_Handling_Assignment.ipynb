{
  "cells": [
    {
      "cell_type": "markdown",
      "metadata": {
        "id": "Tp2qTyGb_XIl"
      },
      "source": [
        "# Python: Files & Exception Handling\n"
      ],
      "id": "Tp2qTyGb_XIl"
    },
    {
      "cell_type": "markdown",
      "source": [
        "## Theoretical Questions"
      ],
      "metadata": {
        "id": "gk6zRRwfA7vZ"
      },
      "id": "gk6zRRwfA7vZ"
    },
    {
      "cell_type": "markdown",
      "metadata": {
        "id": "pzkCFODY_XIn"
      },
      "source": [
        "###1. What is the difference between interpreted and compiled languages?\n",
        "- Interpreted languages execute code line by line (e.g., Python), which is easier to debug but slower.\n",
        "- Compiled languages convert the entire code to machine code before execution (e.g., C++), resulting in faster performance."
      ],
      "id": "pzkCFODY_XIn"
    },
    {
      "cell_type": "markdown",
      "metadata": {
        "id": "X1aryI69_XIo"
      },
      "source": [
        "### 2. What is exception handling in Python?\n",
        "Exception handling is a mechanism to catch and handle runtime errors gracefully using `try`, `except`, `finally`, and `else` blocks."
      ],
      "id": "X1aryI69_XIo"
    },
    {
      "cell_type": "markdown",
      "metadata": {
        "id": "4LHEcjEU_XIo"
      },
      "source": [
        "### 3. What is the purpose of the finally block in exception handling?\n",
        "The `finally` block is used to execute code regardless of whether an exception occurred or not, often for cleanup operations like closing files."
      ],
      "id": "4LHEcjEU_XIo"
    },
    {
      "cell_type": "markdown",
      "metadata": {
        "id": "kbZ6-zEa_XIp"
      },
      "source": [
        "###4. What is logging in Python?\n",
        "Logging is a way to track events that happen during program execution, helpful for debugging and monitoring."
      ],
      "id": "kbZ6-zEa_XIp"
    },
    {
      "cell_type": "markdown",
      "metadata": {
        "id": "UBk3UVvO_XIp"
      },
      "source": [
        "### 5. What is the significance of the __del__ method in Python?\n",
        "The `__del__` method is a destructor that is automatically called when an object is about to be destroyed, used for cleanup tasks."
      ],
      "id": "UBk3UVvO_XIp"
    },
    {
      "cell_type": "markdown",
      "metadata": {
        "id": "6mZ39s8V_XIp"
      },
      "source": [
        "###6.  What is the difference between import and from ... import in Python?\n",
        "- `import module` imports the entire module.\n",
        "- `from module import name` imports specific components directly."
      ],
      "id": "6mZ39s8V_XIp"
    },
    {
      "cell_type": "markdown",
      "metadata": {
        "id": "CZDyRRMn_XIq"
      },
      "source": [
        "###6. How can you handle multiple exceptions in Python?\n",
        "You can handle multiple exceptions using a tuple:\n",
        "```python\n",
        "try:\n",
        "    # code\n",
        "except (TypeError, ValueError):\n",
        "    # handle both exceptions\n",
        "```"
      ],
      "id": "CZDyRRMn_XIq"
    },
    {
      "cell_type": "markdown",
      "metadata": {
        "id": "uYRw5pTQ_XIq"
      },
      "source": [
        "###6. What is the purpose of the with statement when handling files in Python?\n",
        "The `with` statement ensures that a file is properly closed after its suite finishes, even if an exception occurs."
      ],
      "id": "uYRw5pTQ_XIq"
    },
    {
      "cell_type": "markdown",
      "metadata": {
        "id": "zHw-cJ5I_XIq"
      },
      "source": [
        "###7.  What is the difference between multithreading and multiprocessing?\n",
        "- **Multithreading** uses multiple threads within a single process (shared memory).\n",
        "- **Multiprocessing** uses multiple processes with separate memory spaces (better for CPU-bound tasks)."
      ],
      "id": "zHw-cJ5I_XIq"
    },
    {
      "cell_type": "markdown",
      "metadata": {
        "id": "OvJUvFAZ_XIr"
      },
      "source": [
        "###8.  What are the advantages of using logging in a program?\n",
        "- Easier debugging and troubleshooting\n",
        "- Track program flow and errors\n",
        "- Store logs for audits\n",
        "- More informative than `print()`"
      ],
      "id": "OvJUvFAZ_XIr"
    },
    {
      "cell_type": "markdown",
      "metadata": {
        "id": "wpd9AKBM_XIr"
      },
      "source": [
        "###9.  What is memory management in Python?\n",
        "Memory management involves allocating, using, and freeing memory efficiently using techniques like reference counting and garbage collection."
      ],
      "id": "wpd9AKBM_XIr"
    },
    {
      "cell_type": "markdown",
      "metadata": {
        "id": "-GhJcd1u_XIr"
      },
      "source": [
        "###10. What are the basic steps involved in exception handling in Python?\n",
        "1. Use `try` to wrap risky code\n",
        "2. Use `except` to handle exceptions\n",
        "3. Optionally use `else` to run if no error occurs\n",
        "4. Use `finally` for cleanup actions"
      ],
      "id": "-GhJcd1u_XIr"
    },
    {
      "cell_type": "markdown",
      "metadata": {
        "id": "jnigb6tD_XIr"
      },
      "source": [
        "###11. Why is memory management important in Python?\n",
        "It helps prevent memory leaks, improves program performance, and ensures efficient resource utilization."
      ],
      "id": "jnigb6tD_XIr"
    },
    {
      "cell_type": "markdown",
      "metadata": {
        "id": "549yM3Ps_XIs"
      },
      "source": [
        "###12. What is the role of try and except in exception handling?\n",
        "`try` defines a block of code to test for errors, and `except` catches and handles those errors."
      ],
      "id": "549yM3Ps_XIs"
    },
    {
      "cell_type": "markdown",
      "metadata": {
        "id": "o2oeg83J_XIs"
      },
      "source": [
        "###13. How does Python's garbage collection system work?\n",
        "Python uses **reference counting** and a **cyclic garbage collector** to automatically detect and free unused memory."
      ],
      "id": "o2oeg83J_XIs"
    },
    {
      "cell_type": "markdown",
      "metadata": {
        "id": "TAWUWVEP_XIs"
      },
      "source": [
        "###14. What is the purpose of the else block in exception handling?\n",
        "The `else` block runs only if no exceptions are raised in the `try` block, helping separate successful execution logic."
      ],
      "id": "TAWUWVEP_XIs"
    },
    {
      "cell_type": "markdown",
      "metadata": {
        "id": "zJwCRTaU_XIs"
      },
      "source": [
        "###15. What are the common logging levels in Python?\n",
        "- DEBUG\n",
        "- INFO\n",
        "- WARNING\n",
        "- ERROR\n",
        "- CRITICAL"
      ],
      "id": "zJwCRTaU_XIs"
    },
    {
      "cell_type": "markdown",
      "metadata": {
        "id": "qWrPiEV8_XIs"
      },
      "source": [
        "###16. What is the difference between os.fork() and multiprocessing in Python?\n",
        "- `os.fork()` is Unix-specific and creates a child process.\n",
        "- `multiprocessing` is cross-platform and provides a higher-level interface for process-based parallelism."
      ],
      "id": "qWrPiEV8_XIs"
    },
    {
      "cell_type": "markdown",
      "metadata": {
        "id": "bkTGpt9o_XIt"
      },
      "source": [
        "###17. What is the importance of closing a file in Python?\n",
        "Closing a file ensures all data is written to disk and resources are released properly."
      ],
      "id": "bkTGpt9o_XIt"
    },
    {
      "cell_type": "markdown",
      "metadata": {
        "id": "ziJm36ga_XIt"
      },
      "source": [
        "###18. What is the difference between file.read() and file.readline() in Python?\n",
        "- `file.read()` reads the entire file content.\n",
        "- `file.readline()` reads only one line at a time."
      ],
      "id": "ziJm36ga_XIt"
    },
    {
      "cell_type": "markdown",
      "metadata": {
        "id": "7-wa2rcb_XIt"
      },
      "source": [
        "###19. What is the logging module in Python used for?\n",
        "The `logging` module provides a flexible framework for emitting log messages from Python programs."
      ],
      "id": "7-wa2rcb_XIt"
    },
    {
      "cell_type": "markdown",
      "metadata": {
        "id": "nDkdcs-Z_XIt"
      },
      "source": [
        "###20. What is the os module in Python used for in file handling?\n",
        "The `os` module provides functions to interact with the operating system, such as file paths, directory creation, deletion, etc."
      ],
      "id": "nDkdcs-Z_XIt"
    },
    {
      "cell_type": "markdown",
      "metadata": {
        "id": "QS9dFAP8_XIt"
      },
      "source": [
        "###21. What are the challenges associated with memory management in Python?\n",
        "- Detecting and managing circular references\n",
        "- Memory leaks due to long-lived references\n",
        "- Performance overhead from garbage collection"
      ],
      "id": "QS9dFAP8_XIt"
    },
    {
      "cell_type": "markdown",
      "metadata": {
        "id": "6LYK9rHv_XIt"
      },
      "source": [
        "###22. How do you raise an exception manually in Python?\n",
        "Using the `raise` keyword:\n",
        "```python\n",
        "raise ValueError(\"Invalid input\")\n",
        "```"
      ],
      "id": "6LYK9rHv_XIt"
    },
    {
      "cell_type": "markdown",
      "metadata": {
        "id": "6Ef_JDRH_XIt"
      },
      "source": [
        "###23. Why is it important to use multithreading in certain applications?\n",
        "Multithreading allows programs to perform multiple tasks concurrently, improving performance in I/O-bound operations like network communication or file I/O."
      ],
      "id": "6Ef_JDRH_XIt"
    },
    {
      "cell_type": "markdown",
      "metadata": {
        "id": "zWR-P8GW_XIu"
      },
      "source": [
        "## Practical Questions"
      ],
      "id": "zWR-P8GW_XIu"
    },
    {
      "cell_type": "markdown",
      "metadata": {
        "id": "Qhk_gFso_XIu"
      },
      "source": [
        "###1. How can you open a file for writing in Python and write a string to it?"
      ],
      "id": "Qhk_gFso_XIu"
    },
    {
      "cell_type": "code",
      "execution_count": null,
      "metadata": {
        "id": "u7nPb9Od_XIu"
      },
      "outputs": [],
      "source": [
        "with open(\"example.txt\", \"w\") as file:\n",
        "    file.write(\"Hello, this is a test string.\")"
      ],
      "id": "u7nPb9Od_XIu"
    },
    {
      "cell_type": "markdown",
      "metadata": {
        "id": "MC9S2CVs_XIv"
      },
      "source": [
        "###2. Write a Python program to read the contents of a file and print each line"
      ],
      "id": "MC9S2CVs_XIv"
    },
    {
      "cell_type": "code",
      "execution_count": null,
      "metadata": {
        "id": "Ehu-HeAW_XIv"
      },
      "outputs": [],
      "source": [
        "with open(\"example.txt\", \"r\") as file:\n",
        "    for line in file:\n",
        "        print(line.strip())"
      ],
      "id": "Ehu-HeAW_XIv"
    },
    {
      "cell_type": "markdown",
      "metadata": {
        "id": "VDMnFbCV_XIv"
      },
      "source": [
        "###3. How would you handle a case where the file doesn't exist while trying to open it for reading?"
      ],
      "id": "VDMnFbCV_XIv"
    },
    {
      "cell_type": "code",
      "execution_count": null,
      "metadata": {
        "id": "w6vupg1l_XIw"
      },
      "outputs": [],
      "source": [
        "try:\n",
        "    with open(\"non_existent_file.txt\", \"r\") as file:\n",
        "        content = file.read()\n",
        "except FileNotFoundError:\n",
        "    print(\"The file does not exist.\")"
      ],
      "id": "w6vupg1l_XIw"
    },
    {
      "cell_type": "markdown",
      "metadata": {
        "id": "HPQicWTz_XIw"
      },
      "source": [
        "###4. Write a Python script that reads from one file and writes its content to another file"
      ],
      "id": "HPQicWTz_XIw"
    },
    {
      "cell_type": "code",
      "execution_count": null,
      "metadata": {
        "id": "Hs2kMIz2_XIw"
      },
      "outputs": [],
      "source": [
        "with open(\"source.txt\", \"r\") as src, open(\"destination.txt\", \"w\") as dst:\n",
        "    for line in src:\n",
        "        dst.write(line)"
      ],
      "id": "Hs2kMIz2_XIw"
    },
    {
      "cell_type": "markdown",
      "metadata": {
        "id": "qRbhkrim_XIw"
      },
      "source": [
        "###5. How would you catch and handle division by zero error in Python?"
      ],
      "id": "qRbhkrim_XIw"
    },
    {
      "cell_type": "code",
      "execution_count": null,
      "metadata": {
        "id": "f38TYp-Q_XIw"
      },
      "outputs": [],
      "source": [
        "try:\n",
        "    result = 10 / 0\n",
        "except ZeroDivisionError:\n",
        "    print(\"Cannot divide by zero.\")"
      ],
      "id": "f38TYp-Q_XIw"
    },
    {
      "cell_type": "markdown",
      "metadata": {
        "id": "CiM9coNb_XIx"
      },
      "source": [
        "###6. Write a Python program that logs an error message to a log file when a division by zero exception occurs"
      ],
      "id": "CiM9coNb_XIx"
    },
    {
      "cell_type": "code",
      "execution_count": null,
      "metadata": {
        "id": "TQQ3TgxW_XIx"
      },
      "outputs": [],
      "source": [
        "import logging\n",
        "\n",
        "logging.basicConfig(filename=\"errors.log\", level=logging.ERROR)\n",
        "\n",
        "try:\n",
        "    result = 10 / 0\n",
        "except ZeroDivisionError as e:\n",
        "    logging.error(\"Division by zero error: %s\", e)"
      ],
      "id": "TQQ3TgxW_XIx"
    },
    {
      "cell_type": "markdown",
      "metadata": {
        "id": "Xn9Tli6M_XIy"
      },
      "source": [
        "###7. How do you log information at different levels (INFO, ERROR, WARNING) in Python using the logging module?"
      ],
      "id": "Xn9Tli6M_XIy"
    },
    {
      "cell_type": "code",
      "execution_count": null,
      "metadata": {
        "id": "k_YzLP1E_XIz"
      },
      "outputs": [],
      "source": [
        "import logging\n",
        "\n",
        "logging.basicConfig(filename=\"app.log\", level=logging.DEBUG)\n",
        "\n",
        "logging.info(\"This is an info message.\")\n",
        "logging.warning(\"This is a warning message.\")\n",
        "logging.error(\"This is an error message.\")"
      ],
      "id": "k_YzLP1E_XIz"
    },
    {
      "cell_type": "markdown",
      "metadata": {
        "id": "1wawCGi6_XIz"
      },
      "source": [
        "###8. Write a program to handle a file opening error using exception handling"
      ],
      "id": "1wawCGi6_XIz"
    },
    {
      "cell_type": "code",
      "execution_count": null,
      "metadata": {
        "id": "ynTi1jul_XIz"
      },
      "outputs": [],
      "source": [
        "try:\n",
        "    file = open(\"sample.txt\", \"r\")\n",
        "except IOError:\n",
        "    print(\"Error opening the file.\")"
      ],
      "id": "ynTi1jul_XIz"
    },
    {
      "cell_type": "markdown",
      "metadata": {
        "id": "90xAFTRQ_XI0"
      },
      "source": [
        "###9. How can you read a file line by line and store its content in a list in Python?"
      ],
      "id": "90xAFTRQ_XI0"
    },
    {
      "cell_type": "code",
      "execution_count": null,
      "metadata": {
        "id": "hYIRCPlA_XI0"
      },
      "outputs": [],
      "source": [
        "with open(\"example.txt\", \"r\") as file:\n",
        "    lines = file.readlines()\n",
        "print(lines)"
      ],
      "id": "hYIRCPlA_XI0"
    },
    {
      "cell_type": "markdown",
      "metadata": {
        "id": "w1z8GzzN_XI0"
      },
      "source": [
        "###10. How can you append data to an existing file in Python?"
      ],
      "id": "w1z8GzzN_XI0"
    },
    {
      "cell_type": "code",
      "execution_count": null,
      "metadata": {
        "id": "jeUJLAXF_XI1"
      },
      "outputs": [],
      "source": [
        "with open(\"example.txt\", \"a\") as file:\n",
        "    file.write(\"\\nAppended line.\")"
      ],
      "id": "jeUJLAXF_XI1"
    },
    {
      "cell_type": "markdown",
      "metadata": {
        "id": "I3FCtFq-_XI1"
      },
      "source": [
        "###11. Write a Python program that uses a try-except block to handle an error when attempting to access a dictionary key that doesn't exist"
      ],
      "id": "I3FCtFq-_XI1"
    },
    {
      "cell_type": "code",
      "execution_count": null,
      "metadata": {
        "id": "B_cO2fgn_XI1"
      },
      "outputs": [],
      "source": [
        "try:\n",
        "    my_dict = {\"name\": \"Alice\"}\n",
        "    print(my_dict[\"age\"])\n",
        "except KeyError:\n",
        "    print(\"Key does not exist.\")"
      ],
      "id": "B_cO2fgn_XI1"
    },
    {
      "cell_type": "markdown",
      "metadata": {
        "id": "cGUaR4Nd_XI1"
      },
      "source": [
        "###12. Write a program that demonstrates using multiple except blocks to handle different types of exceptions"
      ],
      "id": "cGUaR4Nd_XI1"
    },
    {
      "cell_type": "code",
      "execution_count": null,
      "metadata": {
        "id": "YPwtQrwv_XI2"
      },
      "outputs": [],
      "source": [
        "try:\n",
        "    x = int(\"abc\")\n",
        "    y = 10 / 0\n",
        "except ValueError:\n",
        "    print(\"Value error occurred.\")\n",
        "except ZeroDivisionError:\n",
        "    print(\"Zero division error occurred.\")"
      ],
      "id": "YPwtQrwv_XI2"
    },
    {
      "cell_type": "markdown",
      "metadata": {
        "id": "KZjn1kT5_XI2"
      },
      "source": [
        "###13. How would you check if a file exists before attempting to read it in Python?"
      ],
      "id": "KZjn1kT5_XI2"
    },
    {
      "cell_type": "code",
      "execution_count": null,
      "metadata": {
        "id": "BYEkACKS_XI2"
      },
      "outputs": [],
      "source": [
        "import os\n",
        "\n",
        "if os.path.exists(\"example.txt\"):\n",
        "    with open(\"example.txt\", \"r\") as file:\n",
        "        print(file.read())\n",
        "else:\n",
        "    print(\"File not found.\")"
      ],
      "id": "BYEkACKS_XI2"
    },
    {
      "cell_type": "markdown",
      "metadata": {
        "id": "sEWkk8xu_XI2"
      },
      "source": [
        "###14. Write a program that uses the logging module to log both informational and error messages"
      ],
      "id": "sEWkk8xu_XI2"
    },
    {
      "cell_type": "code",
      "execution_count": null,
      "metadata": {
        "id": "Rx4HRDuP_XI3"
      },
      "outputs": [],
      "source": [
        "import logging\n",
        "\n",
        "logging.basicConfig(filename=\"logfile.log\", level=logging.DEBUG)\n",
        "\n",
        "logging.info(\"Program started.\")\n",
        "try:\n",
        "    x = 10 / 0\n",
        "except ZeroDivisionError as e:\n",
        "    logging.error(\"Error occurred: %s\", e)"
      ],
      "id": "Rx4HRDuP_XI3"
    },
    {
      "cell_type": "markdown",
      "metadata": {
        "id": "P2ZcIMeZ_XI3"
      },
      "source": [
        "###15. Write a Python program that prints the content of a file and handles the case when the file is empty"
      ],
      "id": "P2ZcIMeZ_XI3"
    },
    {
      "cell_type": "code",
      "execution_count": null,
      "metadata": {
        "id": "GGjYRP8G_XI3"
      },
      "outputs": [],
      "source": [
        "with open(\"example.txt\", \"r\") as file:\n",
        "    content = file.read()\n",
        "    if not content:\n",
        "        print(\"File is empty.\")\n",
        "    else:\n",
        "        print(content)"
      ],
      "id": "GGjYRP8G_XI3"
    },
    {
      "cell_type": "markdown",
      "metadata": {
        "id": "Q0b_ssxz_XI4"
      },
      "source": [
        "###16. Demonstrate how to use memory profiling to check the memory usage of a small program"
      ],
      "id": "Q0b_ssxz_XI4"
    },
    {
      "cell_type": "code",
      "execution_count": null,
      "metadata": {
        "id": "zKwc7exO_XI4"
      },
      "outputs": [],
      "source": [
        "# Install memory profiler using: !pip install memory-profiler\n",
        "from memory_profiler import profile\n",
        "\n",
        "@profile\n",
        "def create_list():\n",
        "    return [i for i in range(10000)]\n",
        "\n",
        "create_list()"
      ],
      "id": "zKwc7exO_XI4"
    },
    {
      "cell_type": "markdown",
      "metadata": {
        "id": "za1NApIM_XI4"
      },
      "source": [
        "###17. Write a Python program to create and write a list of numbers to a file, one number per line"
      ],
      "id": "za1NApIM_XI4"
    },
    {
      "cell_type": "code",
      "execution_count": null,
      "metadata": {
        "id": "uPKH0wv9_XI4"
      },
      "outputs": [],
      "source": [
        "numbers = list(range(1, 11))\n",
        "with open(\"numbers.txt\", \"w\") as file:\n",
        "    for number in numbers:\n",
        "        file.write(f\"{number}\\n\")"
      ],
      "id": "uPKH0wv9_XI4"
    },
    {
      "cell_type": "markdown",
      "metadata": {
        "id": "rwZcrm_i_XI5"
      },
      "source": [
        "###18. How would you implement a basic logging setup that logs to a file with rotation after 1MB?"
      ],
      "id": "rwZcrm_i_XI5"
    },
    {
      "cell_type": "code",
      "execution_count": null,
      "metadata": {
        "id": "Zv6Mzgbc_XI5"
      },
      "outputs": [],
      "source": [
        "import logging\n",
        "from logging.handlers import RotatingFileHandler\n",
        "\n",
        "handler = RotatingFileHandler(\"rotated.log\", maxBytes=1_000_000, backupCount=3)\n",
        "logging.basicConfig(handlers=[handler], level=logging.INFO)\n",
        "\n",
        "logging.info(\"This is a log message with rotation.\")"
      ],
      "id": "Zv6Mzgbc_XI5"
    },
    {
      "cell_type": "markdown",
      "metadata": {
        "id": "VR2ue1jX_XI5"
      },
      "source": [
        "###19. Write a program that handles both IndexError and KeyError using a try-except block"
      ],
      "id": "VR2ue1jX_XI5"
    },
    {
      "cell_type": "code",
      "execution_count": null,
      "metadata": {
        "id": "nWG2LvbH_XI5"
      },
      "outputs": [],
      "source": [
        "try:\n",
        "    my_list = [1, 2, 3]\n",
        "    print(my_list[5])\n",
        "    my_dict = {\"a\": 1}\n",
        "    print(my_dict[\"b\"])\n",
        "except IndexError:\n",
        "    print(\"Index out of range.\")\n",
        "except KeyError:\n",
        "    print(\"Key not found.\")"
      ],
      "id": "nWG2LvbH_XI5"
    },
    {
      "cell_type": "markdown",
      "metadata": {
        "id": "OCXvbQgX_XI6"
      },
      "source": [
        "###20. How would you open a file and read its contents using a context manager in Python?"
      ],
      "id": "OCXvbQgX_XI6"
    },
    {
      "cell_type": "code",
      "execution_count": null,
      "metadata": {
        "id": "9kiKL37w_XI6"
      },
      "outputs": [],
      "source": [
        "with open(\"example.txt\", \"r\") as file:\n",
        "    content = file.read()\n",
        "    print(content)"
      ],
      "id": "9kiKL37w_XI6"
    },
    {
      "cell_type": "markdown",
      "metadata": {
        "id": "caKVkFDS_XI6"
      },
      "source": [
        "###21. Write a Python program that reads a file and prints the number of occurrences of a specific word"
      ],
      "id": "caKVkFDS_XI6"
    },
    {
      "cell_type": "code",
      "execution_count": null,
      "metadata": {
        "id": "Mq3g4BR7_XI6"
      },
      "outputs": [],
      "source": [
        "word_to_find = \"python\"\n",
        "with open(\"example.txt\", \"r\") as file:\n",
        "    content = file.read()\n",
        "    count = content.lower().count(word_to_find.lower())\n",
        "    print(f\"The word '{word_to_find}' occurred {count} times.\")"
      ],
      "id": "Mq3g4BR7_XI6"
    },
    {
      "cell_type": "markdown",
      "metadata": {
        "id": "4m65Krqd_XI7"
      },
      "source": [
        "###22. How can you check if a file is empty before attempting to read its contents?"
      ],
      "id": "4m65Krqd_XI7"
    },
    {
      "cell_type": "code",
      "execution_count": null,
      "metadata": {
        "id": "38rwvSRQ_XI7"
      },
      "outputs": [],
      "source": [
        "import os\n",
        "\n",
        "if os.path.exists(\"example.txt\") and os.path.getsize(\"example.txt\") == 0:\n",
        "    print(\"File is empty.\")\n",
        "else:\n",
        "    print(\"File has content.\")"
      ],
      "id": "38rwvSRQ_XI7"
    },
    {
      "cell_type": "markdown",
      "metadata": {
        "id": "eaqleFAf_XI7"
      },
      "source": [
        "###23. Write a Python program that writes to a log file when an error occurs during file handling."
      ],
      "id": "eaqleFAf_XI7"
    },
    {
      "cell_type": "code",
      "execution_count": null,
      "metadata": {
        "id": "gX1SSx8K_XI7"
      },
      "outputs": [],
      "source": [
        "import logging\n",
        "\n",
        "logging.basicConfig(filename=\"file_error.log\", level=logging.ERROR)\n",
        "\n",
        "try:\n",
        "    with open(\"non_existent.txt\", \"r\") as file:\n",
        "        data = file.read()\n",
        "except FileNotFoundError as e:\n",
        "    logging.error(\"File handling error: %s\", e)"
      ],
      "id": "gX1SSx8K_XI7"
    }
  ],
  "metadata": {
    "kernelspec": {
      "display_name": "Python 3",
      "language": "python",
      "name": "python3"
    },
    "language_info": {
      "name": "python",
      "version": "3.8"
    },
    "colab": {
      "provenance": [],
      "collapsed_sections": [
        "gk6zRRwfA7vZ",
        "zWR-P8GW_XIu"
      ]
    }
  },
  "nbformat": 4,
  "nbformat_minor": 5
}