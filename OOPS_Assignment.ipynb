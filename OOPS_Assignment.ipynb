{
 "cells": [
  {
   "cell_type": "markdown",
   "id": "07bd3a83-f161-4807-88fc-8bcb5552e0be",
   "metadata": {},
   "source": [
    "### Github Link: "
   ]
  },
  {
   "cell_type": "markdown",
   "id": "443791f4-02f6-47f6-aca5-df75c82d35ed",
   "metadata": {},
   "source": [
    "## Python OOPs Question"
   ]
  },
  {
   "cell_type": "markdown",
   "id": "717ea39e-a41a-4455-b880-3c5cbd3497db",
   "metadata": {},
   "source": [
    "### 1. What is Object-Oriented Programming (OOP)?\n",
    "Object-Oriented Programming (OOP) is a paradigm that organizes software design around objects, which combine data and behavior. Each object is an instance of a class, and classes define the structure and capabilities of these objects. OOP promotes code reusability, modularity, and scalability through principles like encapsulation, inheritance, abstraction, and polymorphism. By modeling real-world entities and their interactions, OOP helps make programs easier to understand, maintain, and extend.\n",
    "\n",
    "### 2. What is a class in OOP?\n",
    "A class in OOP is a template or blueprint used to create objects. It defines a set of attributes and methods that the created objects will have. Think of a class like a recipe and objects like the actual dishes made from it. For example, a Car class might include attributes like color and model, and methods like drive() and stop(). You can create many car objects from this class, each with its own values but the same structure and behavior.\n",
    "\n",
    "### 3. What is an object in OOP?\n",
    "An object is an instance of a class, representing a specific entity with defined attributes and behavior. Once a class is defined, you can create one or more objects from it. Each object can hold its own state (values of attributes) and perform actions through its methods. For example, if Dog is a class, my_dog = Dog() creates an object. That object can have properties like name = \"Rex\" and methods like bark(), making it a self-contained unit of data and functionality.\n",
    "\n",
    "### 4. What is the difference between abstraction and encapsulation?\n",
    "Abstraction and encapsulation are both core principles of OOP, but they serve different purposes. Abstraction is about hiding complex implementation details and showing only the necessary features of an object, making the interface simpler to use. Encapsulation, on the other hand, is about wrapping the data (attributes) and methods (functions) into a single unit (class) and restricting direct access to some components. Encapsulation is typically enforced using access modifiers (like private or protected), while abstraction is achieved using abstract classes or interfaces that hide the underlying logic from the user.\n",
    "\n",
    "### 5. What are dunder methods in Python?\n",
    "Dunder methods, short for “double underscore” methods, are special methods in Python that begin and end with double underscores, like __init__, __str__, or __len__. These methods enable built-in behavior or allow you to override default operations, such as object creation, string representation, or operator overloading. For example, __init__ is called when an object is created, while __str__ is used when you print an object. They're part of Python's \"magic methods\" and help integrate custom classes seamlessly with Python’s syntax and built-in functions.\n",
    "\n",
    "### 6. Explain the concept of inheritance in OOP\n",
    "Inheritance is a fundamental concept in OOP where one class (called a child or subclass) inherits the properties and behaviors of another class (called a parent or superclass). This allows code to be reused and extended. For instance, a class Animal might define a method make_sound(). A subclass Dog can inherit from Animal and either use the same method or override it to customize the behavior. Inheritance helps in creating hierarchical relationships and makes programs more modular and maintainable.\n",
    "\n",
    "### 7. What is polymorphism in OOP?\n",
    "Polymorphism allows objects of different classes to be treated as instances of a common superclass. It lets the same interface or method call behave differently depending on the object’s actual class. For example, both Cat and Dog can have a method speak(), and even if we don’t know the exact type, we can call speak() and expect the right behavior. This makes code more flexible and easier to extend, as new types can be introduced without changing the existing logic that uses the common interface.\n",
    "\n",
    "### 8. How is encapsulation achieved in Python?\n",
    "Encapsulation in Python is achieved by bundling data (attributes) and behavior (methods) into a class and controlling access to internal data. Python uses naming conventions to signal how data should be accessed. Prefixing an attribute with a single underscore (e.g., _name) suggests it’s intended for internal use. A double underscore (e.g., __name) triggers name mangling to make it harder to access from outside. Combined with property decorators and getter/setter methods, encapsulation helps protect object integrity and enforce proper usage.\n",
    "\n",
    "### 9. What is a constructor in Python?\n",
    "A constructor in Python is a special method called __init__, which is automatically executed when a new object is created from a class. It’s used to initialize the object’s attributes and set up its initial state. For example, in a class Person, the constructor might take arguments like name and age and assign them to the object. Without a constructor, the object would need to be manually configured after creation, so __init__ simplifies and automates that process.\n",
    "\n",
    "### 10. What are class and static methods in Python?\n",
    "Class methods and static methods are defined using decorators in Python. A @classmethod takes cls as its first parameter and can modify the class state. It’s often used for alternative constructors. A @staticmethod does not take self or cls and behaves like a regular function placed inside a class. It cannot modify object or class state. Use class methods when you need to access or change class-level data, and use static methods for utility functions that logically belong to the class but don't need access to its data.\n",
    "\n",
    "### 11. What is method overloading in Python?\n",
    "Python doesn’t support traditional method overloading like some other languages do (e.g., Java or C++). However, you can mimic it using default parameters or *args and **kwargs to accept a varying number of arguments. This allows a single method to handle different input scenarios. For example, a method greet() can be designed to work with no arguments, one argument, or multiple, depending on how you structure its body. The key is to use internal logic to handle the different argument combinations.\n",
    "\n",
    "### 12. What is method overriding in OOP?\n",
    "Method overriding is when a subclass provides a specific implementation of a method already defined in its superclass. This allows the subclass to customize or completely replace inherited behavior. For example, a Vehicle class might have a method start_engine(), and a Motorcycle subclass could override it with a version specific to motorcycles. When you call the method on a Motorcycle object, the overridden version is executed. It’s a key feature of polymorphism and helps tailor inherited behavior to new use cases.\n",
    "\n",
    "### 13. What is a property decorator in Python?\n",
    "The @property decorator in Python lets you define methods that behave like attributes. It allows for controlled access to class data, letting you get or compute values without explicitly calling a method. For example, you can define a method get_area() but access it as shape.area using @property. You can also add @<property>.setter to allow updates with validation. This provides a clean syntax while maintaining encapsulation, especially useful for computed values or when direct access isn't safe or ideal.\n",
    "\n",
    "### 14. Why is polymorphism important in OOP?\n",
    "Polymorphism is crucial in OOP because it lets different objects respond to the same method in their own way. This makes code more general and adaptable, especially when working with large codebases or frameworks. For example, a function that processes a list of Shape objects can call draw() on each one without needing to know if it’s a Circle, Square, or Triangle. Each shape will handle the method call appropriately. This flexibility improves code reuse, simplifies logic, and makes it easier to extend functionality.\n",
    "\n",
    "### 15. What is an abstract class in Python?\n",
    "An abstract class in Python serves as a base class that cannot be instantiated directly. It’s defined using the abc module and must contain at least one method marked with the @abstractmethod decorator. Subclasses are required to implement these methods. Abstract classes are used to define common interfaces and enforce a contract that all subclasses must follow. For instance, an abstract class Shape might require all subclasses to implement calculate_area(). This helps ensure consistency across a group of related classes.\n",
    "\n",
    "### 16. What are the advantages of OOP?\n",
    "OOP offers several advantages, including better organization of code, improved reusability, and easier maintenance. By modeling software as a collection of interacting objects, you can represent real-world scenarios more naturally. Inheritance reduces duplication, encapsulation protects internal data, abstraction simplifies interfaces, and polymorphism adds flexibility. These features together promote clean, modular design and make large-scale software easier to build, understand, and extend. OOP also supports collaboration, as developers can work on different classes independently without tightly coupling components.\n",
    "\n",
    "### 17. What is the difference between a class variable and an instance variable?\n",
    "A class variable is shared across all instances of a class, whereas an instance variable is unique to each object. Class variables are defined at the class level and hold data common to all objects, like a counter tracking how many instances were created. Instance variables are defined inside methods like __init__ using self, and they store data specific to each object. Changing a class variable affects all instances (unless shadowed), while changing an instance variable affects only that particular object.\n",
    "\n",
    "### 18. What is multiple inheritance in Python?\n",
    "Multiple inheritance is a feature in Python where a class can inherit from more than one parent class. For example, a class FlyingCar might inherit from both Car and Airplane, gaining attributes and methods from both. While powerful, this can also lead to complexity and conflicts, especially if the parent classes have methods with the same name. Python handles this using the Method Resolution Order (MRO), which determines the order in which classes are searched for methods and attributes, helping resolve ambiguities.\n",
    "\n",
    "### 19. Explain the purpose of __str__ and __repr__ methods in Python\n",
    "The __str__ and __repr__ methods control how objects are represented as strings. __str__ is meant to provide a readable, user-friendly string version of the object and is used when you print the object. __repr__, on the other hand, is more for developers and should return a string that, ideally, can recreate the object. If __str__ isn’t defined, Python falls back to __repr__. Implementing both makes your objects more intuitive to work with and easier to debug.\n",
    "\n",
    "### 20. What is the significance of the super() function in Python?\n",
    "The super() function allows you to call methods from a parent or superclass within a subclass. It’s most commonly used inside __init__ to ensure the parent class is properly initialized. Using super() instead of directly referencing the parent class name makes code more maintainable and supports cooperative multiple inheritance. It works with Python’s Method Resolution Order (MRO), which determines the order in which classes are accessed. This is particularly helpful when dealing with complex inheritance structures.\n",
    "\n",
    "### 21. What is the significance of the __del__ method in Python?\n",
    "The __del__ method in Python is called when an object is about to be destroyed, usually when it’s no longer referenced. It's often used for cleanup actions, such as closing files or releasing resources. However, its use is discouraged in many cases because its execution timing is uncertain—especially in environments with circular references or garbage collection. It’s generally better to use context managers (with statements) or explicit cleanup methods to manage resources reliably.\n",
    "\n",
    "### 22. What is the difference between @staticmethod and @classmethod in Python?\n",
    "A @staticmethod defines a method that doesn’t access class or instance data. It behaves like a regular function but lives inside a class for logical grouping. A @classmethod, on the other hand, receives the class itself as the first argument (cls) and can access or modify class-level data. Use static methods for utilities that don’t depend on object or class state, and class methods when you need to work with the class itself, such as defining alternative constructors.\n",
    "\n",
    "### 23. How does polymorphism work in Python with inheritance?\n",
    "In Python, polymorphism with inheritance allows a child class to override methods from a parent class, and the appropriate method is determined at runtime. This is known as dynamic method resolution. For example, if both Cat and Dog inherit from Animal and override speak(), calling speak() on an Animal reference will execute the correct method depending on the actual object type. This lets you write code that works with multiple types through a single interface, enhancing flexibility and extensibility.\n",
    "\n",
    "### 24. What is method chaining in Python OOP?\n",
    "Method chaining is a technique where multiple methods are called in a single line, one after another, using dot notation. For this to work, each method must return self. This allows for cleaner, more concise code. For example, user.set_name(\"Alice\").set_age(30).activate() chains three method calls on a single object. It’s commonly used in builder patterns or fluent interfaces to configure objects in a readable and efficient way, reducing boilerplate and improving flow.\n",
    "\n",
    "### 25. What is the purpose of the __call__ method in Python?\n",
    "The __call__ method in Python allows an object to be called like a function. When you define __call__ inside a class, you can use instances of that class with parentheses as if they were functions. This is useful for creating callable objects that maintain internal state or wrap logic, such as decorators, function wrappers, or configurable behavior. For example, a class Multiplier(n) could define __call__(x) to return x * n, making the object act like a customized function."
   ]
  },
  {
   "cell_type": "markdown",
   "id": "33c6533c-4692-4db8-9baf-6d9f07c262be",
   "metadata": {},
   "source": [
    "## Practical Questions"
   ]
  },
  {
   "cell_type": "markdown",
   "id": "8d9c0793-6055-4849-bcf8-c60df8403f85",
   "metadata": {},
   "source": [
    "### 1. Create a parent class Animal with a method speak() that prints a generic message. Create a child class Dog that overrides the speak() method to print \"Bark!\"."
   ]
  },
  {
   "cell_type": "code",
   "execution_count": 1,
   "id": "06c44524-bcfc-43a7-8afc-54d3e4476fa9",
   "metadata": {},
   "outputs": [],
   "source": [
    "class Animal:\n",
    "    def speak(self):\n",
    "        print(\"Generic animal sound\")\n",
    "\n",
    "class Dog(Animal):\n",
    "    def speak(self):\n",
    "        print(\"Bark!\")"
   ]
  },
  {
   "cell_type": "markdown",
   "id": "90246307-d953-47c6-a32b-d64cddd9d1ff",
   "metadata": {},
   "source": [
    "### 2. Write a program to create an abstract class Shape with a method area(). Derive classes Circle and Rectangle from it and implement the area() method in both."
   ]
  },
  {
   "cell_type": "code",
   "execution_count": null,
   "id": "88a50a59-3e8c-4367-9d6f-a4c86f7bf518",
   "metadata": {},
   "outputs": [],
   "source": [
    "from abc import ABC, abstractmethod\n",
    "\n",
    "class Shape(ABC):\n",
    "    @abstractmethod\n",
    "    def area(self):\n",
    "        pass\n",
    "\n",
    "class Circle(Shape):\n",
    "    def __init__(self, radius):\n",
    "        self.radius = radius\n",
    "\n",
    "    def area(self):\n",
    "        return 3.14 * self.radius ** 2\n",
    "\n",
    "class Rectangle(Shape):\n",
    "    def __init__(self, width, height):\n",
    "        self.width = width\n",
    "        self.height = height\n",
    "\n",
    "    def area(self):\n",
    "        return self.width * self.height"
   ]
  },
  {
   "cell_type": "markdown",
   "id": "127d6052-b620-49f9-b2cc-50b068c9d594",
   "metadata": {},
   "source": [
    "### 3. Implement a multi-level inheritance scenario where a class Vehicle has an attribute type. Derive a class Car and further derive a class ElectricCar that adds a battery attribute."
   ]
  },
  {
   "cell_type": "code",
   "execution_count": 3,
   "id": "2d370db8-78c9-450b-b233-802222606ea9",
   "metadata": {},
   "outputs": [],
   "source": [
    "class Vehicle:\n",
    "    def __init__(self, type):\n",
    "        self.type = type\n",
    "\n",
    "class Car(Vehicle):\n",
    "    def __init__(self, type, brand):\n",
    "        super().__init__(type)\n",
    "        self.brand = brand\n",
    "\n",
    "class ElectricCar(Car):\n",
    "    def __init__(self, type, brand, battery):\n",
    "        super().__init__(type, brand)\n",
    "        self.battery = battery"
   ]
  },
  {
   "cell_type": "markdown",
   "id": "b30adf1a-e5f1-43cb-aaea-35ddcf6aeb1f",
   "metadata": {},
   "source": [
    "### 4. Demonstrate polymorphism by creating a base class Bird with a method fly(). Create two derived classes Sparrow and Penguin that override the fly() method."
   ]
  },
  {
   "cell_type": "code",
   "execution_count": 4,
   "id": "022f15b8-473b-47d4-a72f-cd1451caf075",
   "metadata": {},
   "outputs": [],
   "source": [
    "class Bird:\n",
    "    def fly(self):\n",
    "        print(\"Bird is flying\")\n",
    "\n",
    "class Sparrow(Bird):\n",
    "    def fly(self):\n",
    "        print(\"Sparrow flies high\")\n",
    "\n",
    "class Penguin(Bird):\n",
    "    def fly(self):\n",
    "        print(\"Penguins can't fly\")"
   ]
  },
  {
   "cell_type": "markdown",
   "id": "4e3cd721-d3c7-4eb6-a82e-bbb469eb2e5d",
   "metadata": {},
   "source": [
    "### 5. Write a program to demonstrate encapsulation by creating a class BankAccount with private attributes balance and methods to deposit, withdraw, and check balance."
   ]
  },
  {
   "cell_type": "code",
   "execution_count": 5,
   "id": "c70a1295-6bdd-4753-be50-0e2b8998631c",
   "metadata": {},
   "outputs": [],
   "source": [
    "class BankAccount:\n",
    "    def __init__(self, balance=0):\n",
    "        self.__balance = balance\n",
    "\n",
    "    def deposit(self, amount):\n",
    "        self.__balance += amount\n",
    "\n",
    "    def withdraw(self, amount):\n",
    "        if amount <= self.__balance:\n",
    "            self.__balance -= amount\n",
    "\n",
    "    def get_balance(self):\n",
    "        return self.__balance"
   ]
  },
  {
   "cell_type": "markdown",
   "id": "f5b7a946-3139-4de9-8cfb-d56b0f4ac3c7",
   "metadata": {},
   "source": [
    "### 6.  Demonstrate runtime polymorphism using a method play() in a base class Instrument. Derive classes Guitar and Piano that implement their own version of play()."
   ]
  },
  {
   "cell_type": "code",
   "execution_count": 6,
   "id": "d8586f2d-f95d-4d83-a360-379da652ee8d",
   "metadata": {},
   "outputs": [],
   "source": [
    "class Instrument:\n",
    "    def play(self):\n",
    "        print(\"Playing instrument\")\n",
    "\n",
    "class Guitar(Instrument):\n",
    "    def play(self):\n",
    "        print(\"Playing guitar\")\n",
    "\n",
    "class Piano(Instrument):\n",
    "    def play(self):\n",
    "        print(\"Playing piano\")"
   ]
  },
  {
   "cell_type": "markdown",
   "id": "e0c9d7ed-701f-477e-8439-2cf1c4a326e1",
   "metadata": {},
   "source": [
    "### 7.Create a class MathOperations with a class method add_numbers() to add two numbers and a static method subtract_numbers() to subtract two numbers."
   ]
  },
  {
   "cell_type": "code",
   "execution_count": 7,
   "id": "bb9468c1-626b-4ce0-8909-bdf9345a8b0b",
   "metadata": {},
   "outputs": [],
   "source": [
    "class MathOperations:\n",
    "    @classmethod\n",
    "    def add_numbers(cls, a, b):\n",
    "        return a + b\n",
    "\n",
    "    @staticmethod\n",
    "    def subtract_numbers(a, b):\n",
    "        return a - b"
   ]
  },
  {
   "cell_type": "markdown",
   "id": "6be7e9be-f5e1-4062-81e8-003da0bc6eed",
   "metadata": {},
   "source": [
    "### 8. Implement a class Person with a class method to count the total number of persons created."
   ]
  },
  {
   "cell_type": "code",
   "execution_count": 8,
   "id": "a85a396b-3e49-4ad7-9347-0b753e6ee687",
   "metadata": {},
   "outputs": [],
   "source": [
    "class Person:\n",
    "    count = 0\n",
    "\n",
    "    def __init__(self, name):\n",
    "        self.name = name\n",
    "        Person.count += 1\n",
    "\n",
    "    @classmethod\n",
    "    def total_persons(cls):\n",
    "        return cls.count"
   ]
  },
  {
   "cell_type": "markdown",
   "id": "6a195191-a075-4d0c-b4b7-c39867cf03e1",
   "metadata": {},
   "source": [
    "### 9. Write a class Fraction with attributes numerator and denominator. Override the str method to display the fraction as \"numerator/denominator\"."
   ]
  },
  {
   "cell_type": "code",
   "execution_count": 9,
   "id": "e6d05f45-6aef-41ac-9f6f-19c72bee8add",
   "metadata": {},
   "outputs": [],
   "source": [
    "class Fraction:\n",
    "    def __init__(self, numerator, denominator):\n",
    "        self.numerator = numerator\n",
    "        self.denominator = denominator\n",
    "\n",
    "    def __str__(self):\n",
    "        return f\"{self.numerator}/{self.denominator}\""
   ]
  },
  {
   "cell_type": "markdown",
   "id": "5915a872-d95c-4308-885b-f2fe493c9275",
   "metadata": {},
   "source": [
    "### 10. Demonstrate operator overloading by creating a class Vector and overriding the add method to add two vectors."
   ]
  },
  {
   "cell_type": "code",
   "execution_count": 10,
   "id": "c401ee63-b576-45a8-a7e5-b5b388321381",
   "metadata": {},
   "outputs": [],
   "source": [
    "class Vector:\n",
    "    def __init__(self, x, y):\n",
    "        self.x = x\n",
    "        self.y = y\n",
    "\n",
    "    def __add__(self, other):\n",
    "        return Vector(self.x + other.x, self.y + other.y)\n",
    "\n",
    "    def __str__(self):\n",
    "        return f\"({self.x}, {self.y})\""
   ]
  },
  {
   "cell_type": "markdown",
   "id": "d9985c97-ccb9-43ca-9add-c3339b466845",
   "metadata": {},
   "source": [
    "### 11. Create a class Person with attributes name and age. Add a method greet() that prints \"Hello, my name is {name} and I am {age} years old"
   ]
  },
  {
   "cell_type": "code",
   "execution_count": 17,
   "id": "ac03fe1c-052a-4c0a-b093-502fa616f5d3",
   "metadata": {},
   "outputs": [],
   "source": [
    "class Person:\n",
    "    def __init__(self, name, age):\n",
    "        self.name = name\n",
    "        self.age = age\n",
    "\n",
    "    def greet(self):\n",
    "        print(f\"Hello, my name is {self.name} and I am {self.age} years old.\")"
   ]
  },
  {
   "cell_type": "markdown",
   "id": "d68523a6-660e-46b6-af7e-819dae080867",
   "metadata": {},
   "source": [
    "### 12. Implement a class Student with attributes name and grades. Create a method average_grade() to compute the average of the grades."
   ]
  },
  {
   "cell_type": "code",
   "execution_count": 18,
   "id": "84da77be-3a88-46e3-bbbe-9a2ef15fb8ac",
   "metadata": {},
   "outputs": [],
   "source": [
    "class Student:\n",
    "    def __init__(self, name, grades):\n",
    "        self.name = name\n",
    "        self.grades = grades\n",
    "\n",
    "    def average_grade(self):\n",
    "        return sum(self.grades) / len(self.grades)"
   ]
  },
  {
   "cell_type": "markdown",
   "id": "06042cb9-9abd-430d-97df-24c4cc3fca86",
   "metadata": {},
   "source": [
    "### 13. Create a class Rectangle with methods set_dimensions() to set the dimensions and area() to calculate the area."
   ]
  },
  {
   "cell_type": "code",
   "execution_count": 19,
   "id": "749ec33b-ad21-45d3-80fe-7784495ee883",
   "metadata": {},
   "outputs": [],
   "source": [
    "class Rectangle:\n",
    "    def set_dimensions(self, width, height):\n",
    "        self.width = width\n",
    "        self.height = height\n",
    "\n",
    "    def area(self):\n",
    "        return self.width * self.height"
   ]
  },
  {
   "cell_type": "markdown",
   "id": "92d3d588-ee62-4d7c-bca0-e7b31c635051",
   "metadata": {},
   "source": [
    "### 14. Create a class Employee with a method calculate_salary() that computes the salary based on hours worked and hourly rate. Create a derived class Manager that adds a bonus to the salary"
   ]
  },
  {
   "cell_type": "code",
   "execution_count": 20,
   "id": "21b2049b-2fe7-4a01-a676-7b3f6ac659fc",
   "metadata": {},
   "outputs": [],
   "source": [
    "class Employee:\n",
    "    def calculate_salary(self, hours_worked, hourly_rate):\n",
    "        return hours_worked * hourly_rate\n",
    "\n",
    "class Manager(Employee):\n",
    "    def calculate_salary(self, hours_worked, hourly_rate, bonus=0):\n",
    "        return super().calculate_salary(hours_worked, hourly_rate) + bonus"
   ]
  },
  {
   "cell_type": "markdown",
   "id": "bb1828e9-57cc-48f8-a50e-ee4a61707f62",
   "metadata": {},
   "source": [
    "### 15. Create a class Product with attributes name, price, and quantity. Implement a method total_price() that calculates the total price of the product."
   ]
  },
  {
   "cell_type": "code",
   "execution_count": 31,
   "id": "d96f2de6-3d55-4525-a755-026daec94210",
   "metadata": {},
   "outputs": [],
   "source": [
    "class Product:\n",
    "    def __init__(self, name, price, quantity):\n",
    "        self.name = name\n",
    "        self.price = price\n",
    "        self.quantity = quantity\n",
    "\n",
    "    def total_price(self):\n",
    "        return self.price * self.quantity"
   ]
  },
  {
   "cell_type": "markdown",
   "id": "de8e934d-7afb-4930-9dd3-1838f815d120",
   "metadata": {},
   "source": [
    "### 16. Create a class Animal with an abstract method sound(). Create two derived classes Cow and Sheep that implement the sound() method."
   ]
  },
  {
   "cell_type": "code",
   "execution_count": 28,
   "id": "4c1258ff-db6c-47cc-9ccd-71cc2b49c53c",
   "metadata": {},
   "outputs": [],
   "source": [
    "from abc import ABC, abstractmethod\n",
    "\n",
    "class Animal(ABC):\n",
    "    @abstractmethod\n",
    "    def sound(self):\n",
    "        pass\n",
    "\n",
    "class Cow(Animal):\n",
    "    def sound(self):\n",
    "        return \"Moo\"\n",
    "\n",
    "class Sheep(Animal):\n",
    "    def sound(self):\n",
    "        return \"Baa\""
   ]
  },
  {
   "cell_type": "markdown",
   "id": "b23d1a49-30c1-427d-9bd5-c7a7703b1f0e",
   "metadata": {},
   "source": [
    "### 17. Create a class Book with attributes title, author, and year_published. Add a method get_book_info() that returns a formatted string with the book's details."
   ]
  },
  {
   "cell_type": "code",
   "execution_count": 29,
   "id": "4c5e9949-73b9-4ad4-94fb-0fabcc2804ca",
   "metadata": {},
   "outputs": [],
   "source": [
    "class Book:\n",
    "    def __init__(self, title, author, year_published):\n",
    "        self.title = title\n",
    "        self.author = author\n",
    "        self.year_published = year_published\n",
    "\n",
    "    def get_book_info(self):\n",
    "        return f\"'{self.title}' by {self.author}, published in {self.year_published}\""
   ]
  },
  {
   "cell_type": "markdown",
   "id": "37cdb651-05d5-46e3-afff-a6561e00870f",
   "metadata": {},
   "source": [
    "### 18. Create a class House with attributes address and price. Create a derived class Mansion that adds an attribute number_of_rooms"
   ]
  },
  {
   "cell_type": "code",
   "execution_count": null,
   "id": "7c44b996-10b9-45ce-b41f-ab40fd38d32c",
   "metadata": {},
   "outputs": [],
   "source": [
    "class House:\n",
    "    def __init__(self, address, price):\n",
    "        self.address = address\n",
    "        self.price = price\n",
    "\n",
    "class Mansion(House):\n",
    "    def __init__(self, address, price, number_of_rooms):\n",
    "        super().__init__(address, price)\n",
    "        self.number_of_rooms = number_of_rooms"
   ]
  }
 ],
 "metadata": {
  "kernelspec": {
   "display_name": "Python 3 (ipykernel)",
   "language": "python",
   "name": "python3"
  },
  "language_info": {
   "codemirror_mode": {
    "name": "ipython",
    "version": 3
   },
   "file_extension": ".py",
   "mimetype": "text/x-python",
   "name": "python",
   "nbconvert_exporter": "python",
   "pygments_lexer": "ipython3",
   "version": "3.10.12"
  }
 },
 "nbformat": 4,
 "nbformat_minor": 5
}
